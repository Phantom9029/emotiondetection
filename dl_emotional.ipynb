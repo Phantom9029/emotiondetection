{
  "nbformat": 4,
  "nbformat_minor": 0,
  "metadata": {
    "colab": {
      "provenance": [],
      "authorship_tag": "ABX9TyNLFrWZhbdRF3mVXA0YO7tU",
      "include_colab_link": true
    },
    "kernelspec": {
      "name": "python3",
      "display_name": "Python 3"
    },
    "language_info": {
      "name": "python"
    }
  },
  "cells": [
    {
      "cell_type": "markdown",
      "metadata": {
        "id": "view-in-github",
        "colab_type": "text"
      },
      "source": [
        "<a href=\"https://colab.research.google.com/github/Phantom9029/emotiondetection/blob/main/dl_emotional.ipynb\" target=\"_parent\"><img src=\"https://colab.research.google.com/assets/colab-badge.svg\" alt=\"Open In Colab\"/></a>"
      ]
    },
    {
      "cell_type": "code",
      "source": [
        "import pandas as pd\n",
        "import numpy as np\n",
        "import tensorflow as tf\n",
        "from tensorflow.keras.preprocessing.text import Tokenizer\n",
        "from tensorflow.keras.preprocessing.sequence import pad_sequences\n",
        "from tensorflow.keras.models import Sequential\n",
        "from tensorflow.keras.layers import Embedding, LSTM, Dense, Dropout\n",
        "from sklearn.model_selection import train_test_split\n",
        "from sklearn.preprocessing import LabelEncoder\n",
        "\n",
        "# 🔹 Load dataset\n",
        "df = pd.read_csv(\"goemotions_subset.csv\")\n",
        "\n",
        "# 🔹 Reduce labels to 6 categories (Grouping emotions)\n",
        "emotion_map = {\n",
        "    \"joy\": \"joy\", \"happiness\": \"joy\", \"contentment\": \"joy\",\n",
        "    \"anger\": \"anger\", \"annoyance\": \"anger\", \"rage\": \"anger\",\n",
        "    \"sadness\": \"sadness\", \"grief\": \"sadness\",\n",
        "    \"fear\": \"fear\", \"nervousness\": \"fear\",\n",
        "    \"surprise\": \"surprise\", \"shock\": \"surprise\",\n",
        "    \"neutral\": \"neutral\"\n",
        "}\n",
        "df[\"label\"] = df[\"label\"].map(emotion_map).fillna(\"neutral\")  # Map emotions\n",
        "\n",
        "# 🔹 Encode labels\n",
        "label_encoder = LabelEncoder()\n",
        "df[\"label\"] = label_encoder.fit_transform(df[\"label\"])\n",
        "\n",
        "# 🔹 Split dataset\n",
        "X_train, X_test, y_train, y_test = train_test_split(df[\"text\"], df[\"label\"], test_size=0.2, random_state=42)\n",
        "\n",
        "# 🔹 Tokenization\n",
        "vocab_size = 20000  # Increased vocab size\n",
        "tokenizer = Tokenizer(num_words=vocab_size, oov_token=\"<OOV>\")\n",
        "tokenizer.fit_on_texts(X_train)\n",
        "\n",
        "X_train_seq = tokenizer.texts_to_sequences(X_train)\n",
        "X_test_seq = tokenizer.texts_to_sequences(X_test)\n",
        "\n",
        "# 🔹 Padding sequences\n",
        "max_length = 100  # Increased length to capture more context\n",
        "X_train_pad = pad_sequences(X_train_seq, maxlen=max_length, padding=\"post\")\n",
        "X_test_pad = pad_sequences(X_test_seq, maxlen=max_length, padding=\"post\")\n",
        "\n",
        "# 🔹 Build Optimized LSTM Model\n",
        "model = Sequential([\n",
        "    Embedding(input_dim=vocab_size, output_dim=256, input_length=max_length),\n",
        "    LSTM(128, return_sequences=True),\n",
        "    LSTM(64),\n",
        "    Dropout(0.5),\n",
        "    Dense(64, activation=\"relu\"),\n",
        "    Dense(len(label_encoder.classes_), activation=\"softmax\")\n",
        "])\n",
        "\n",
        "# 🔹 Compile Model\n",
        "model.compile(loss=\"sparse_categorical_crossentropy\", optimizer=\"adam\", metrics=[\"accuracy\"])\n",
        "\n",
        "# 🔹 Train Model\n",
        "model.fit(X_train_pad, y_train, epochs=20, batch_size=64, validation_data=(X_test_pad, y_test))\n",
        "\n",
        "\n",
        "\n"
      ],
      "metadata": {
        "colab": {
          "base_uri": "https://localhost:8080/"
        },
        "id": "TDP-1KP1nhKj",
        "outputId": "df1b96a0-d3a0-428f-fb43-736433f4dd17"
      },
      "execution_count": 6,
      "outputs": [
        {
          "output_type": "stream",
          "name": "stdout",
          "text": [
            "Epoch 1/20\n"
          ]
        },
        {
          "output_type": "stream",
          "name": "stderr",
          "text": [
            "/usr/local/lib/python3.11/dist-packages/keras/src/layers/core/embedding.py:90: UserWarning: Argument `input_length` is deprecated. Just remove it.\n",
            "  warnings.warn(\n"
          ]
        },
        {
          "output_type": "stream",
          "name": "stdout",
          "text": [
            "\u001b[1m130/130\u001b[0m \u001b[32m━━━━━━━━━━━━━━━━━━━━\u001b[0m\u001b[37m\u001b[0m \u001b[1m72s\u001b[0m 507ms/step - accuracy: 0.6918 - loss: 1.1873 - val_accuracy: 0.7264 - val_loss: 1.0320\n",
            "Epoch 2/20\n",
            "\u001b[1m130/130\u001b[0m \u001b[32m━━━━━━━━━━━━━━━━━━━━\u001b[0m\u001b[37m\u001b[0m \u001b[1m67s\u001b[0m 513ms/step - accuracy: 0.7175 - loss: 1.0535 - val_accuracy: 0.7264 - val_loss: 1.0395\n",
            "Epoch 3/20\n",
            "\u001b[1m130/130\u001b[0m \u001b[32m━━━━━━━━━━━━━━━━━━━━\u001b[0m\u001b[37m\u001b[0m \u001b[1m66s\u001b[0m 510ms/step - accuracy: 0.7095 - loss: 1.0705 - val_accuracy: 0.7264 - val_loss: 1.0262\n",
            "Epoch 4/20\n",
            "\u001b[1m130/130\u001b[0m \u001b[32m━━━━━━━━━━━━━━━━━━━━\u001b[0m\u001b[37m\u001b[0m \u001b[1m81s\u001b[0m 501ms/step - accuracy: 0.7170 - loss: 1.0557 - val_accuracy: 0.7264 - val_loss: 1.0340\n",
            "Epoch 5/20\n",
            "\u001b[1m130/130\u001b[0m \u001b[32m━━━━━━━━━━━━━━━━━━━━\u001b[0m\u001b[37m\u001b[0m \u001b[1m83s\u001b[0m 509ms/step - accuracy: 0.7063 - loss: 1.0760 - val_accuracy: 0.7264 - val_loss: 1.0511\n",
            "Epoch 6/20\n",
            "\u001b[1m130/130\u001b[0m \u001b[32m━━━━━━━━━━━━━━━━━━━━\u001b[0m\u001b[37m\u001b[0m \u001b[1m83s\u001b[0m 516ms/step - accuracy: 0.7136 - loss: 1.0566 - val_accuracy: 0.7264 - val_loss: 1.0407\n",
            "Epoch 7/20\n",
            "\u001b[1m130/130\u001b[0m \u001b[32m━━━━━━━━━━━━━━━━━━━━\u001b[0m\u001b[37m\u001b[0m \u001b[1m63s\u001b[0m 487ms/step - accuracy: 0.7068 - loss: 1.0706 - val_accuracy: 0.7264 - val_loss: 1.0368\n",
            "Epoch 8/20\n",
            "\u001b[1m130/130\u001b[0m \u001b[32m━━━━━━━━━━━━━━━━━━━━\u001b[0m\u001b[37m\u001b[0m \u001b[1m84s\u001b[0m 506ms/step - accuracy: 0.7126 - loss: 1.0508 - val_accuracy: 0.7264 - val_loss: 1.0360\n",
            "Epoch 9/20\n",
            "\u001b[1m130/130\u001b[0m \u001b[32m━━━━━━━━━━━━━━━━━━━━\u001b[0m\u001b[37m\u001b[0m \u001b[1m67s\u001b[0m 517ms/step - accuracy: 0.7121 - loss: 1.0572 - val_accuracy: 0.7264 - val_loss: 1.0497\n",
            "Epoch 10/20\n",
            "\u001b[1m130/130\u001b[0m \u001b[32m━━━━━━━━━━━━━━━━━━━━\u001b[0m\u001b[37m\u001b[0m \u001b[1m67s\u001b[0m 513ms/step - accuracy: 0.7162 - loss: 1.0441 - val_accuracy: 0.7264 - val_loss: 1.0440\n",
            "Epoch 11/20\n",
            "\u001b[1m130/130\u001b[0m \u001b[32m━━━━━━━━━━━━━━━━━━━━\u001b[0m\u001b[37m\u001b[0m \u001b[1m81s\u001b[0m 511ms/step - accuracy: 0.7166 - loss: 1.0471 - val_accuracy: 0.7264 - val_loss: 1.0388\n",
            "Epoch 12/20\n",
            "\u001b[1m130/130\u001b[0m \u001b[32m━━━━━━━━━━━━━━━━━━━━\u001b[0m\u001b[37m\u001b[0m \u001b[1m82s\u001b[0m 505ms/step - accuracy: 0.7131 - loss: 1.0524 - val_accuracy: 0.7264 - val_loss: 1.0436\n",
            "Epoch 13/20\n",
            "\u001b[1m130/130\u001b[0m \u001b[32m━━━━━━━━━━━━━━━━━━━━\u001b[0m\u001b[37m\u001b[0m \u001b[1m84s\u001b[0m 525ms/step - accuracy: 0.7108 - loss: 1.0579 - val_accuracy: 0.7264 - val_loss: 1.0550\n",
            "Epoch 14/20\n",
            "\u001b[1m130/130\u001b[0m \u001b[32m━━━━━━━━━━━━━━━━━━━━\u001b[0m\u001b[37m\u001b[0m \u001b[1m67s\u001b[0m 517ms/step - accuracy: 0.7154 - loss: 1.0444 - val_accuracy: 0.7264 - val_loss: 1.0462\n",
            "Epoch 15/20\n",
            "\u001b[1m130/130\u001b[0m \u001b[32m━━━━━━━━━━━━━━━━━━━━\u001b[0m\u001b[37m\u001b[0m \u001b[1m80s\u001b[0m 503ms/step - accuracy: 0.7128 - loss: 1.0524 - val_accuracy: 0.7264 - val_loss: 1.0459\n",
            "Epoch 16/20\n",
            "\u001b[1m130/130\u001b[0m \u001b[32m━━━━━━━━━━━━━━━━━━━━\u001b[0m\u001b[37m\u001b[0m \u001b[1m83s\u001b[0m 513ms/step - accuracy: 0.7004 - loss: 1.0823 - val_accuracy: 0.7264 - val_loss: 1.0372\n",
            "Epoch 17/20\n",
            "\u001b[1m130/130\u001b[0m \u001b[32m━━━━━━━━━━━━━━━━━━━━\u001b[0m\u001b[37m\u001b[0m \u001b[1m81s\u001b[0m 504ms/step - accuracy: 0.7097 - loss: 1.0545 - val_accuracy: 0.7264 - val_loss: 1.0507\n",
            "Epoch 18/20\n",
            "\u001b[1m130/130\u001b[0m \u001b[32m━━━━━━━━━━━━━━━━━━━━\u001b[0m\u001b[37m\u001b[0m \u001b[1m83s\u001b[0m 511ms/step - accuracy: 0.7152 - loss: 1.0422 - val_accuracy: 0.7264 - val_loss: 1.0438\n",
            "Epoch 19/20\n",
            "\u001b[1m130/130\u001b[0m \u001b[32m━━━━━━━━━━━━━━━━━━━━\u001b[0m\u001b[37m\u001b[0m \u001b[1m65s\u001b[0m 503ms/step - accuracy: 0.7069 - loss: 1.0680 - val_accuracy: 0.7264 - val_loss: 1.0405\n",
            "Epoch 20/20\n",
            "\u001b[1m130/130\u001b[0m \u001b[32m━━━━━━━━━━━━━━━━━━━━\u001b[0m\u001b[37m\u001b[0m \u001b[1m68s\u001b[0m 520ms/step - accuracy: 0.7120 - loss: 1.0478 - val_accuracy: 0.7264 - val_loss: 1.0535\n",
            "\u001b[1m65/65\u001b[0m \u001b[32m━━━━━━━━━━━━━━━━━━━━\u001b[0m\u001b[37m\u001b[0m \u001b[1m6s\u001b[0m 99ms/step - accuracy: 0.7266 - loss: 1.0506\n"
          ]
        },
        {
          "output_type": "stream",
          "name": "stderr",
          "text": [
            "WARNING:absl:You are saving your model as an HDF5 file via `model.save()` or `keras.saving.save_model(model)`. This file format is considered legacy. We recommend using instead the native Keras format, e.g. `model.save('my_model.keras')` or `keras.saving.save_model(model, 'my_model.keras')`. \n"
          ]
        },
        {
          "output_type": "stream",
          "name": "stdout",
          "text": [
            "✅ Accuracy: 72.64%\n"
          ]
        }
      ]
    },
    {
      "cell_type": "code",
      "source": [
        "# 🔹 Evaluate Model\n",
        "loss, acc = model.evaluate(X_test_pad, y_test)\n",
        "print(f\"✅ Accuracy: {acc * 100:.2f}%\")"
      ],
      "metadata": {
        "colab": {
          "base_uri": "https://localhost:8080/"
        },
        "id": "Boxz0lk1pJ4d",
        "outputId": "2063290d-b80c-4634-e72e-30ab3ba4a5c2"
      },
      "execution_count": 7,
      "outputs": [
        {
          "output_type": "stream",
          "name": "stdout",
          "text": [
            "\u001b[1m65/65\u001b[0m \u001b[32m━━━━━━━━━━━━━━━━━━━━\u001b[0m\u001b[37m\u001b[0m \u001b[1m6s\u001b[0m 96ms/step - accuracy: 0.7266 - loss: 1.0506\n",
            "✅ Accuracy: 72.64%\n"
          ]
        }
      ]
    },
    {
      "cell_type": "code",
      "source": [],
      "metadata": {
        "id": "_Shw3VAivAHT"
      },
      "execution_count": null,
      "outputs": []
    }
  ]
}